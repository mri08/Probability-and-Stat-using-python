{
 "cells": [
  {
   "cell_type": "markdown",
   "id": "0f267d63",
   "metadata": {},
   "source": [
    "**Pseudo Code**\n",
    "#####  Reference : https://machinelearningmastery.com/calculate-bootstrap-confidence-intervals-machine-learning-results-python/"
   ]
  },
  {
   "cell_type": "raw",
   "id": "02b0c588",
   "metadata": {},
   "source": [
    "statistics = []\n",
    "for i in bootstraps:\n",
    "\tsample = select_sample_with_replacement(data)\n",
    "\tstat = calculate_statistic(sample)\n",
    "\tstatistics.append(stat)\n",
    "    \n",
    " \n",
    "ordered = sort(statistics)\n",
    "lower = percentile(ordered, (1-alpha)/2)\n",
    "upper = percentile(ordered, alpha+((1-alpha)/2))"
   ]
  },
  {
   "cell_type": "code",
   "execution_count": 1,
   "id": "3303ae71",
   "metadata": {},
   "outputs": [],
   "source": [
    "import numpy as np\n",
    "import pandas as pd\n",
    "from sklearn.utils import resample\n",
    "from sklearn.metrics import accuracy_score\n",
    "import matplotlib as plt\n",
    "%matplotlib inline"
   ]
  },
  {
   "cell_type": "code",
   "execution_count": 24,
   "id": "2177eb1e",
   "metadata": {},
   "outputs": [
    {
     "data": {
      "image/png": "[encoded data removed]",
      "text/plain": [
       "<Figure size 432x288 with 1 Axes>"
      ]
     },
     "metadata": {
      "needs_background": "light"
     },
     "output_type": "display_data"
    },
    {
     "name": "stdout",
     "output_type": "stream",
     "text": [
      "95.0 % confidence interval for median is 161.5 and 176.0\n"
     ]
    }
   ],
   "source": [
    "# Loading the dataset\n",
    "X = np.array([180,162,158,172,168,150,171,189,165,174])\n",
    "\n",
    "# configure bootstrap \n",
    "n_iterations = 1000     # no.of sub-samples drawn from X\n",
    "n_size = int(len(X))    # size of each sub-sample\n",
    "\n",
    "# run bootstrap\n",
    "medians = []\n",
    "\"\"\"\n",
    "Here we have generated 1000 bootstrap samples each of size n_size \n",
    "and computed the medians of all the samples and stored it\n",
    "in a list called medians.\n",
    "\"\"\"\n",
    "for i in range(n_iterations):\n",
    "    # prepare the sub-sample\n",
    "    s = resample(X, n_samples = n_size)\n",
    "    m = np.median(s)\n",
    "    medians.append(m)\n",
    "\n",
    "    \n",
    "# plot scores\n",
    "plt.pyplot.hist(medians)\n",
    "plt.pyplot.show()\n",
    "\n",
    "# confidence intervals\n",
    "alpha = 0.95\n",
    "p = ((1.0-alpha)/2.0) * 100\n",
    "lower = np.percentile(medians, p)\n",
    "\n",
    "p = (alpha + (1.0-alpha)/2.0) * 100\n",
    "upper = np.percentile(medians, p)\n",
    "print('{} % confidence interval for median is {} and {}'.format(alpha*100, lower, upper))"
   ]
  }
 ],
 "metadata": {
  "kernelspec": {
   "display_name": "Python 3",
   "language": "python",
   "name": "python3"
  },
  "language_info": {
   "codemirror_mode": {
    "name": "ipython",
    "version": 3
   },
   "file_extension": ".py",
   "mimetype": "text/x-python",
   "name": "python",
   "nbconvert_exporter": "python",
   "pygments_lexer": "ipython3",
   "version": "3.8.8"
  }
 },
 "nbformat": 4,
 "nbformat_minor": 5
}
